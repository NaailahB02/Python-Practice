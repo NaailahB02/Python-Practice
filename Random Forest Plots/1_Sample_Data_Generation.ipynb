{
 "cells": [
  {
   "cell_type": "code",
   "execution_count": 4,
   "metadata": {},
   "outputs": [
    {
     "name": "stdout",
     "output_type": "stream",
     "text": [
      "Collecting faker\n",
      "  Downloading Faker-36.1.1-py3-none-any.whl.metadata (15 kB)\n",
      "Requirement already satisfied: tzdata in /opt/anaconda3/envs/python_course/lib/python3.12/site-packages (from faker) (2023.3)\n",
      "Downloading Faker-36.1.1-py3-none-any.whl (1.9 MB)\n",
      "\u001b[2K   \u001b[90m━━━━━━━━━━━━━━━━━━━━━━━━━━━━━━━━━━━━━━━━\u001b[0m \u001b[32m1.9/1.9 MB\u001b[0m \u001b[31m294.5 kB/s\u001b[0m eta \u001b[36m0:00:00\u001b[0ma \u001b[36m0:00:01\u001b[0m\n",
      "\u001b[?25hInstalling collected packages: faker\n",
      "Successfully installed faker-36.1.1\n",
      "Dataset saved as 'patient_data.csv'\n"
     ]
    }
   ],
   "source": [
    "import pandas as pd\n",
    "import random\n",
    "!pip install faker\n",
    "from faker import Faker\n",
    "\n",
    "# Initialize Faker for generating fake names and dates\n",
    "fake = Faker()\n",
    "\n",
    "# Possible values for each column\n",
    "genders = [\"Male\", \"Female\"]\n",
    "blood_types = [\"A+\", \"A-\", \"B+\", \"B-\", \"O+\", \"O-\", \"AB+\", \"AB-\"]\n",
    "medical_conditions = [\"Hypertension\", \"Diabetes\", \"Asthma\", \"COPD\", \"Heart Disease\", \n",
    "                      \"Kidney Disease\", \"Liver Disease\", \"Anemia\", \"Cancer\", \"Healthy\"]\n",
    "\n",
    "# Generate dataset\n",
    "num_samples = 300\n",
    "data = {\n",
    "    \"Name\": [fake.name() for _ in range(num_samples)],\n",
    "    \"Age\": [random.randint(18, 90) for _ in range(num_samples)],\n",
    "    \"Gender\": [random.choice(genders) for _ in range(num_samples)],\n",
    "    \"Blood Type\": [random.choice(blood_types) for _ in range(num_samples)],\n",
    "    \"Medical Condition\": [random.choice(medical_conditions) for _ in range(num_samples)],\n",
    "    \"Date of Admission\": [fake.date_between(start_date=\"-2y\", end_date=\"today\") for _ in range(num_samples)],\n",
    "}\n",
    "\n",
    "# Create DataFrame and save as CSV\n",
    "df = pd.DataFrame(data)\n",
    "df.to_csv(\"patient_data.csv\", index=False)\n",
    "\n",
    "print(\"Dataset saved as 'patient_data.csv'\")"
   ]
  },
  {
   "cell_type": "code",
   "execution_count": 1,
   "metadata": {},
   "outputs": [
    {
     "name": "stdout",
     "output_type": "stream",
     "text": [
      "Dataset with 300 rows saved as 'synthetic_ph_dataset_300.csv'\n"
     ]
    }
   ],
   "source": [
    "import pandas as pd\n",
    "import numpy as np\n",
    "\n",
    "# Set random seed for reproducibility\n",
    "np.random.seed(42)\n",
    "\n",
    "# Number of samples\n",
    "n_samples = 300\n",
    "\n",
    "# Generate synthetic data\n",
    "age = np.random.randint(18, 90, n_samples)  # Age between 18 and 90\n",
    "sex = np.random.choice([0, 1], n_samples)  # 0 = female, 1 = male\n",
    "bmi = np.random.normal(25, 5, n_samples)  # BMI with mean 25 and std deviation 5\n",
    "systolic_bp = np.random.randint(90, 180, n_samples)  # Systolic BP between 90 and 180\n",
    "diabetes = np.random.choice([0, 1], n_samples)  # 0 = no, 1 = yes\n",
    "heart_disease = np.random.choice([0, 1], n_samples)  # 0 = no, 1 = yes\n",
    "copd = np.random.choice([0, 1], n_samples)  # 0 = no, 1 = yes\n",
    "oxygen_saturation = np.random.normal(95, 2, n_samples)  # Oxygen saturation around 95% with some noise\n",
    "\n",
    "# Target variable: Pulmonary Hypertension diagnosis (binary: 0 = no, 1 = yes)\n",
    "ph_diagnosis = np.random.choice([0, 1], n_samples, p=[0.7, 0.3])  # 30% chance of having PH\n",
    "\n",
    "# Adjust the distribution for patients with PH (make them more likely to have certain features)\n",
    "ph_diagnosis[age > 65] = 1  # Older patients have higher likelihood of PH\n",
    "ph_diagnosis[oxygen_saturation < 90] = 1  # Low oxygen saturation linked to PH\n",
    "ph_diagnosis[heart_disease == 1] = 1  # Heart disease can be a comorbidity\n",
    "\n",
    "# Create a DataFrame\n",
    "data = pd.DataFrame({\n",
    "    'Age': age,\n",
    "    'Sex': sex,\n",
    "    'BMI': bmi,\n",
    "    'Systolic BP': systolic_bp,\n",
    "    'Diabetes': diabetes,\n",
    "    'Heart Disease': heart_disease,\n",
    "    'COPD': copd,\n",
    "    'Oxygen Saturation': oxygen_saturation,\n",
    "    'PH Diagnosis': ph_diagnosis\n",
    "})\n",
    "\n",
    "# Save the dataset as a CSV file\n",
    "data.to_csv('synthetic_ph_dataset_300.csv', index=False)\n",
    "\n",
    "print(\"Dataset with 300 rows saved as 'synthetic_ph_dataset_300.csv'\")\n"
   ]
  },
  {
   "cell_type": "code",
   "execution_count": null,
   "metadata": {},
   "outputs": [],
   "source": []
  }
 ],
 "metadata": {
  "kernelspec": {
   "display_name": "python_course",
   "language": "python",
   "name": "python3"
  },
  "language_info": {
   "codemirror_mode": {
    "name": "ipython",
    "version": 3
   },
   "file_extension": ".py",
   "mimetype": "text/x-python",
   "name": "python",
   "nbconvert_exporter": "python",
   "pygments_lexer": "ipython3",
   "version": "3.12.9"
  }
 },
 "nbformat": 4,
 "nbformat_minor": 2
}
